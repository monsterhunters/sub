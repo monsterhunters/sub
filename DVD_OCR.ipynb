{
  "nbformat": 4,
  "nbformat_minor": 0,
  "metadata": {
    "colab": {
      "provenance": [],
      "authorship_tag": "ABX9TyP3MiJPCesIieCqoZ9iZVpV",
      "include_colab_link": true
    },
    "kernelspec": {
      "name": "python3",
      "display_name": "Python 3"
    },
    "language_info": {
      "name": "python"
    }
  },
  "cells": [
    {
      "cell_type": "markdown",
      "metadata": {
        "id": "view-in-github",
        "colab_type": "text"
      },
      "source": [
        "<a href=\"https://colab.research.google.com/github/monsterhunters/sub/blob/dev/DVD_OCR.ipynb\" target=\"_parent\"><img src=\"https://colab.research.google.com/assets/colab-badge.svg\" alt=\"Open In Colab\"/></a>"
      ]
    },
    {
      "cell_type": "markdown",
      "source": [
        "##DVD Sub Images Ready For OCR V 1.0"
      ],
      "metadata": {
        "id": "26GWNkYYlBaw"
      }
    },
    {
      "cell_type": "code",
      "execution_count": null,
      "metadata": {
        "cellView": "form",
        "id": "vEnrukd_cd2L"
      },
      "outputs": [],
      "source": [
        "#@title ← Upload Rar contaning images from idx/sub or SUP images with time code name\n",
        "#@markdown - Please Upload RAR file contaning Images (RGB Images)\n",
        "#@markdown - Gdrive Link format must be format as below (Otherwise downloaded file will not work)\n",
        "#@markdown - <code>https://drive.google.com/file/d/15EN9PmzV3YTfgMR9Ezhy_k8U3eXVaT9l/view?usp=sharing</code>\n",
        "\n",
        "\n",
        "import gdown, os, re\n",
        "print('installing dependencies...')\n",
        "os.system('sudo apt install rar')\n",
        "os.system('pip install gdown')\n",
        "os.system('pip install --upgrade gdown') #gdrive fix\n",
        "os.system('pip install --upgrade google-api-python-client google-auth-httplib2 google-auth-oauthlib')\n",
        "os.system('rm -R -- */')\n",
        "os.system('rm *.*')\n",
        "\n",
        "\n",
        "Upload_from = \"Gdrive\" #@param [\"Gdrive\",\"Gdrive2\",\"PC\", \"Direct Link\"]\n",
        "url = \"\" #@param {type:\"string\"}\n",
        "pattern = \"d/(.*?)\\/v\"\n",
        "gdrivefile_id = re.search(pattern, url).group(1)\n",
        "\n",
        "if Upload_from == \"Gdrive\":\n",
        "  gdown.download(id=gdrivefile_id, output=\"RGBimages.rar\", quiet=False)\n",
        "\n",
        "#elif Upload_from == \"Gdrive2\":\n",
        "#  !cloud-download --link \"$url\" --filename RGBimages.rar\n",
        "#  print(\"Downloaded [2560=ERR]\")\n",
        "\n",
        "elif Upload_from == \"Gdrive2\":\n",
        "  from pydrive.auth import GoogleAuth\n",
        "  from pydrive.drive import GoogleDrive\n",
        "  from google.colab import auth\n",
        "  from oauth2client.client import GoogleCredentials\n",
        "# Authenticate and create the PyDrive client.\n",
        "# This only needs to be done once per notebook.\n",
        "  auth.authenticate_user()\n",
        "  gauth = GoogleAuth()\n",
        "  gauth.credentials = GoogleCredentials.get_application_default()\n",
        "  drive = GoogleDrive(gauth)\n",
        "  downloaded = drive.CreateFile({'id': gdrivefile_id})\n",
        "  downloaded.GetContentFile('RGBimages.rar')\n",
        "\n",
        "elif Upload_from == \"PC\":\n",
        " from google.colab import files\n",
        " uploaded = files.upload()\n",
        "\n",
        "else:\n",
        " os.system('pip install wget')\n",
        " import wget\n",
        " filename = wget.download(url)\n",
        " print(filename)\n",
        " print(\"Downloaded\")\n",
        " \n",
        "os.system('cp *.rar backup.bak')\n",
        "\n",
        "#Codemaster V4.0\n",
        "\n",
        "#@title ← Extract RAR\n",
        "\n",
        "import fnmatch,os\n",
        "\n",
        "images = \"./source\"\n",
        "\n",
        "\n",
        "from pathlib import Path\n",
        "if not Path('images').exists():\n",
        "  os.mkdir(images)\n",
        "\n",
        "\n",
        "\n",
        "\n",
        "os.system(\"unrar x *.rar source\")"
      ]
    },
    {
      "cell_type": "code",
      "source": [
        "#@title ← Set Desire Output Image Resolution\n",
        "#@markdown - Please Set Output Image <code>Height</code> and <code>Width</code> as you prefer (Default: H 500, W 2000)\n",
        "new_height = 500 #@param {type:\"slider\", min:0, max:2000, step:100}\n",
        "new_width = 2000 #@param {type:\"slider\", min:0, max:2000, step:100}\n",
        "\n",
        "import os\n",
        "from IPython.display import clear_output\n",
        "from PIL import Image\n",
        "from pathlib import Path\n",
        "\n",
        "\n",
        "out = \"./output\"\n",
        "if not Path('output').exists():\n",
        "  os.mkdir(out)\n",
        "\n",
        "# Get the folder path containing the input images and the new canvas size from the user\n",
        "folder_path = \"source\"\n",
        "new_path = \"output\"\n",
        "\n",
        "# Loop through all the image files in the folder\n",
        "for file_name in os.listdir(folder_path):\n",
        "    if file_name.endswith('.jpg') or file_name.endswith('.png'):\n",
        "        # Create a new image with the custom canvas size\n",
        "        output_image = Image.new('RGB', (new_width, new_height), color='white')\n",
        "\n",
        "        # Load the input image\n",
        "        input_path = os.path.join(folder_path, file_name)\n",
        "        input_image = Image.open(input_path)\n",
        "\n",
        "        # Resize the input image to fit within the custom canvas size\n",
        "        input_image.thumbnail((new_width, new_height), Image.ANTIALIAS)\n",
        "\n",
        "        # Paste the resized input image onto the custom canvas, aligned to the bottom\n",
        "        x_offset = (new_width - input_image.size[0]) // 2\n",
        "        y_offset = new_height - input_image.size[1]\n",
        "        output_image.paste(input_image, (x_offset, y_offset))\n",
        "\n",
        "        # Save the customized image with the same file name as the input image, but with a \"_custom\" suffix and PNG file format\n",
        "        output_path = os.path.join(new_path, file_name.split('.')[0] + '.jpg')\n",
        "        output_image.save(output_path)\n",
        "\n",
        "        print(f\"{file_name} customized and saved at {output_path}\")\n",
        "\n",
        "!rar a \"output_images.rar\" \"/content/output\"\n",
        "clear_output()\n",
        "from google.colab import files\n",
        "files.download('output_images.rar') \n"
      ],
      "metadata": {
        "id": "kLQ5kPXIaDTR",
        "cellView": "form"
      },
      "execution_count": null,
      "outputs": []
    },
    {
      "cell_type": "code",
      "source": [
        "#@title ← Clear All Files\n",
        "!rm -R -- */\n",
        "!rm *.*"
      ],
      "metadata": {
        "cellView": "form",
        "id": "WCaqEqbui7xG"
      },
      "execution_count": null,
      "outputs": []
    },
    {
      "cell_type": "markdown",
      "source": [
        "<font size=4 color=\"red\"><center>Code by Codemaster © 2023</center></font>\n",
        "\n",
        "\n",
        "\n"
      ],
      "metadata": {
        "id": "--_UU4oFlNXO"
      }
    }
  ]
}