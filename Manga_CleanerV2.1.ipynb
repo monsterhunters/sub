{
  "nbformat": 4,
  "nbformat_minor": 0,
  "metadata": {
    "colab": {
      "provenance": [],
      "include_colab_link": true
    },
    "kernelspec": {
      "name": "python3",
      "display_name": "Python 3"
    },
    "language_info": {
      "name": "python"
    },
    "accelerator": "GPU",
    "gpuClass": "standard"
  },
  "cells": [
    {
      "cell_type": "markdown",
      "metadata": {
        "id": "view-in-github",
        "colab_type": "text"
      },
      "source": [
        "<a href=\"https://colab.research.google.com/github/monsterhunters/sub/blob/dev/Manga_CleanerV2.1.ipynb\" target=\"_parent\"><img src=\"https://colab.research.google.com/assets/colab-badge.svg\" alt=\"Open In Colab\"/></a>"
      ]
    },
    {
      "cell_type": "markdown",
      "source": [
        "<center>Manga Cleaner</center>"
      ],
      "metadata": {
        "id": "I1_iLw0Wl3tt"
      }
    },
    {
      "cell_type": "code",
      "source": [
        "#@title ← Install Modules \n",
        "\n",
        "import os\n",
        "os.system('git clone https://github.com/Aeonss/BubbleBlaster.git')\n",
        "%cd /content/BubbleBlaster\n",
        "os.system('pip install -r requirements.txt')\n",
        "\n",
        "dir_name = 'source'\n",
        "\n",
        "if not os.path.exists(dir_name):\n",
        "    os.mkdir(dir_name)\n",
        "    print(f\"Directory '{dir_name}' created successfully.\")\n",
        "else:\n",
        "    print(f\"Directory '{dir_name}' already exists.\")\n",
        "\n",
        "import os\n",
        "\n",
        "dir_name = 'output'\n",
        "\n",
        "if not os.path.exists(dir_name):\n",
        "    os.mkdir(dir_name)\n",
        "    print(f\"Directory '{dir_name}' created successfully.\")\n",
        "else:\n",
        "    print(f\"Directory '{dir_name}' already exists.\")\n"
      ],
      "metadata": {
        "id": "w_RNVZE1d5C3",
        "cellView": "form"
      },
      "execution_count": null,
      "outputs": []
    },
    {
      "cell_type": "code",
      "source": [
        "#@title ← Remove Text\n",
        "confidence = 0.2 #@param {type:\"slider\", min:0, max:1, step:0.01}\n",
        "\n",
        "\n",
        "import subprocess\n",
        "import os\n",
        "\n",
        "# Define the path to the folder containing the image files\n",
        "source_dir = \"/content/BubbleBlaster/source\"\n",
        "\n",
        "# Define the path to the folder where the output files should be saved\n",
        "destination_dir = \"/content/BubbleBlaster/output\"\n",
        "\n",
        "\n",
        "\n",
        "# Get a list of all image files in the input folder\n",
        "input_image_files = [f for f in os.listdir(source_dir) if f.endswith('.jpg') or f.endswith('.png')]\n",
        "\n",
        "# Loop over the list of input image file paths and run the bubbleblaster.py command for each file\n",
        "for input_image_file in input_image_files:\n",
        "    # Build the input and output file paths\n",
        "    input_file_path = os.path.join(source_dir, input_image_file)\n",
        "    output_file_path = os.path.join(destination_dir, input_image_file)\n",
        "\n",
        "    # Build the command string that calls the bubbleblaster.py script for the input file and saves the output to the output file\n",
        "    command = f\"python bubbleblaster.py -i '{input_file_path}' -c {confidence} \"\n",
        "\n",
        "    # Run the command\n",
        "    subprocess.run(command, shell=True)\n",
        "\n",
        "# Loop through all files in the source directory\n",
        "for file_name in os.listdir(source_dir):\n",
        "  \n",
        "  # Check if the file name contains \"ocr\"\n",
        "  if 'ocr' in file_name.lower():\n",
        "    \n",
        "    # If it does, move the file to the destination directory\n",
        "    os.rename(os.path.join(source_dir, file_name), os.path.join(destination_dir, file_name))\n",
        "    print(f\"File {file_name} moved successfully to {destination_dir}.\")"
      ],
      "metadata": {
        "id": "3Q_lH71cj7_l",
        "cellView": "form"
      },
      "execution_count": null,
      "outputs": []
    },
    {
      "cell_type": "code",
      "source": [
        "#@title ← Make Zip\n",
        "!zip -r myoutput.zip /content/BubbleBlaster/output"
      ],
      "metadata": {
        "cellView": "form",
        "id": "FhfuJIUrro2b"
      },
      "execution_count": null,
      "outputs": []
    },
    {
      "cell_type": "code",
      "source": [
        "from google.colab import drive\n",
        "drive.mount('/content/drive')"
      ],
      "metadata": {
        "id": "9vU_ePhhwjao"
      },
      "execution_count": null,
      "outputs": []
    }
  ]
}