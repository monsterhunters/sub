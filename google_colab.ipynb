{
  "cells": [
    {
      "cell_type": "markdown",
      "metadata": {
        "id": "WAJ7lA2wuvR8",
        "pycharm": {
          "name": "#%% md\n"
        }
      },
      "source": [
        "# 运行教程\n",
        "\n",
        "1. 点击“修改” -> \"笔记本设置\" -> \"硬件加速器GPU\" -> 保存\n",
        "<img src=\"https://z3.ax1x.com/2021/03/30/ciQWWV.png\">\n",
        "\n",
        "2. 点左侧文件夹图标，上传视频文件，复制上传的视频路径\n",
        "\n",
        "<img src=\"https://z3.ax1x.com/2021/03/30/cilvhq.png\">\n",
        "\n",
        "3. 运行代码， 输入粘贴的视频路径\n",
        "\n",
        "\n"
      ]
    },
    {
      "cell_type": "markdown",
      "metadata": {
        "id": "_jPi_FBwyZyr",
        "pycharm": {
          "name": "#%% md\n"
        }
      },
      "source": [
        "查看是否有GPU"
      ]
    },
    {
      "cell_type": "code",
      "execution_count": 1,
      "metadata": {
        "id": "eHPHc_Bheo-j",
        "pycharm": {
          "name": "#%%\n"
        },
        "outputId": "26f72dfa-45ea-479c-9791-49d55574ef2d",
        "colab": {
          "base_uri": "https://localhost:8080/"
        }
      },
      "outputs": [
        {
          "output_type": "stream",
          "name": "stdout",
          "text": [
            "Fri Mar 17 08:14:55 2023       \n",
            "+-----------------------------------------------------------------------------+\n",
            "| NVIDIA-SMI 525.85.12    Driver Version: 525.85.12    CUDA Version: 12.0     |\n",
            "|-------------------------------+----------------------+----------------------+\n",
            "| GPU  Name        Persistence-M| Bus-Id        Disp.A | Volatile Uncorr. ECC |\n",
            "| Fan  Temp  Perf  Pwr:Usage/Cap|         Memory-Usage | GPU-Util  Compute M. |\n",
            "|                               |                      |               MIG M. |\n",
            "|===============================+======================+======================|\n",
            "|   0  Tesla T4            Off  | 00000000:00:04.0 Off |                    0 |\n",
            "| N/A   39C    P0    26W /  70W |      0MiB / 15360MiB |      0%      Default |\n",
            "|                               |                      |                  N/A |\n",
            "+-------------------------------+----------------------+----------------------+\n",
            "                                                                               \n",
            "+-----------------------------------------------------------------------------+\n",
            "| Processes:                                                                  |\n",
            "|  GPU   GI   CI        PID   Type   Process name                  GPU Memory |\n",
            "|        ID   ID                                                   Usage      |\n",
            "|=============================================================================|\n",
            "|  No running processes found                                                 |\n",
            "+-----------------------------------------------------------------------------+\n"
          ]
        }
      ],
      "source": [
        "!nvidia-smi"
      ]
    },
    {
      "cell_type": "code",
      "execution_count": 2,
      "metadata": {
        "id": "TkQKKGKZkkT2",
        "pycharm": {
          "name": "#%%\n"
        },
        "outputId": "1b5f234a-28dc-450a-9e5b-8178082a1eed",
        "colab": {
          "base_uri": "https://localhost:8080/"
        }
      },
      "outputs": [
        {
          "output_type": "stream",
          "name": "stdout",
          "text": [
            "nvcc: NVIDIA (R) Cuda compiler driver\n",
            "Copyright (c) 2005-2022 NVIDIA Corporation\n",
            "Built on Wed_Sep_21_10:33:58_PDT_2022\n",
            "Cuda compilation tools, release 11.8, V11.8.89\n",
            "Build cuda_11.8.r11.8/compiler.31833905_0\n"
          ]
        }
      ],
      "source": [
        "!nvcc -V"
      ]
    },
    {
      "cell_type": "markdown",
      "metadata": {
        "id": "_85O6zgPyhto",
        "pycharm": {
          "name": "#%% md\n"
        }
      },
      "source": [
        "# 安装依赖"
      ]
    },
    {
      "cell_type": "code",
      "execution_count": 3,
      "metadata": {
        "id": "ICeq0T1FeqjT",
        "pycharm": {
          "name": "#%%\n"
        },
        "outputId": "9815b1cf-593f-43ed-e496-ffcdcaabb4d3",
        "colab": {
          "base_uri": "https://localhost:8080/"
        }
      },
      "outputs": [
        {
          "output_type": "stream",
          "name": "stdout",
          "text": [
            "Cloning into 'video-subtitle-extractor'...\n",
            "remote: Enumerating objects: 2262, done.\u001b[K\n",
            "remote: Counting objects: 100% (150/150), done.\u001b[K\n",
            "remote: Compressing objects: 100% (80/80), done.\u001b[K\n",
            "remote: Total 2262 (delta 83), reused 114 (delta 70), pack-reused 2112\u001b[K\n",
            "Receiving objects: 100% (2262/2262), 773.77 MiB | 16.23 MiB/s, done.\n",
            "Resolving deltas: 100% (1263/1263), done.\n",
            "Updating files: 100% (349/349), done.\n"
          ]
        }
      ],
      "source": [
        "!git clone https://github.com/YaoFANGUK/video-subtitle-extractor.git"
      ]
    },
    {
      "cell_type": "code",
      "execution_count": 4,
      "metadata": {
        "id": "GHutEWynkMKR",
        "pycharm": {
          "name": "#%%\n"
        },
        "outputId": "ab7a1158-ad44-4413-b6ea-90a02e7cf9f4",
        "colab": {
          "base_uri": "https://localhost:8080/"
        }
      },
      "outputs": [
        {
          "output_type": "stream",
          "name": "stdout",
          "text": [
            "/content/video-subtitle-extractor\n"
          ]
        }
      ],
      "source": [
        "cd video-subtitle-extractor"
      ]
    },
    {
      "cell_type": "code",
      "execution_count": 5,
      "metadata": {
        "id": "ynJydzo1kMKR",
        "pycharm": {
          "name": "#%%\n"
        },
        "outputId": "a90f6c21-9a36-4d80-8187-ffa40535ce05",
        "colab": {
          "base_uri": "https://localhost:8080/"
        }
      },
      "outputs": [
        {
          "output_type": "stream",
          "name": "stdout",
          "text": [
            "Looking in indexes: https://pypi.org/simple, https://us-python.pkg.dev/colab-wheels/public/simple/\n",
            "Collecting astor==0.8.1\n",
            "  Downloading astor-0.8.1-py2.py3-none-any.whl (27 kB)\n",
            "Collecting certifi==2021.10.8\n",
            "  Downloading certifi-2021.10.8-py2.py3-none-any.whl (149 kB)\n",
            "\u001b[2K     \u001b[90m━━━━━━━━━━━━━━━━━━━━━━━━━━━━━━━━━━━━━━\u001b[0m \u001b[32m149.2/149.2 KB\u001b[0m \u001b[31m16.0 MB/s\u001b[0m eta \u001b[36m0:00:00\u001b[0m\n",
            "\u001b[?25hRequirement already satisfied: chardet==4.0.0 in /usr/local/lib/python3.9/dist-packages (from -r requirements_gpu.txt (line 3)) (4.0.0)\n",
            "Requirement already satisfied: cycler==0.11.0 in /usr/local/lib/python3.9/dist-packages (from -r requirements_gpu.txt (line 4)) (0.11.0)\n",
            "Collecting decorator==5.1.0\n",
            "  Downloading decorator-5.1.0-py3-none-any.whl (9.1 kB)\n",
            "Collecting filesplit==3.0.2\n",
            "  Downloading filesplit-3.0.2.tar.gz (5.7 kB)\n",
            "  Preparing metadata (setup.py) ... \u001b[?25l\u001b[?25hdone\n",
            "Collecting gast==0.5.3\n",
            "  Downloading gast-0.5.3-py3-none-any.whl (19 kB)\n",
            "Collecting idna==3.3\n",
            "  Downloading idna-3.3-py3-none-any.whl (61 kB)\n",
            "\u001b[2K     \u001b[90m━━━━━━━━━━━━━━━━━━━━━━━━━━━━━━━━━━━━━━━━\u001b[0m \u001b[32m61.2/61.2 KB\u001b[0m \u001b[31m7.2 MB/s\u001b[0m eta \u001b[36m0:00:00\u001b[0m\n",
            "\u001b[?25hCollecting imageio==2.13.3\n",
            "  Downloading imageio-2.13.3-py3-none-any.whl (3.3 MB)\n",
            "\u001b[2K     \u001b[90m━━━━━━━━━━━━━━━━━━━━━━━━━━━━━━━━━━━━━━━━\u001b[0m \u001b[32m3.3/3.3 MB\u001b[0m \u001b[31m82.0 MB/s\u001b[0m eta \u001b[36m0:00:00\u001b[0m\n",
            "\u001b[?25hRequirement already satisfied: imgaug==0.4.0 in /usr/local/lib/python3.9/dist-packages (from -r requirements_gpu.txt (line 10)) (0.4.0)\n",
            "Collecting kiwisolver==1.3.2\n",
            "  Downloading kiwisolver-1.3.2-cp39-cp39-manylinux_2_12_x86_64.manylinux2010_x86_64.whl (1.6 MB)\n",
            "\u001b[2K     \u001b[90m━━━━━━━━━━━━━━━━━━━━━━━━━━━━━━━━━━━━━━━━\u001b[0m \u001b[32m1.6/1.6 MB\u001b[0m \u001b[31m80.7 MB/s\u001b[0m eta \u001b[36m0:00:00\u001b[0m\n",
            "\u001b[?25hCollecting lmdb==1.2.1\n",
            "  Downloading lmdb-1.2.1-cp39-cp39-manylinux2010_x86_64.whl (306 kB)\n",
            "\u001b[2K     \u001b[90m━━━━━━━━━━━━━━━━━━━━━━━━━━━━━━━━━━━━━━\u001b[0m \u001b[32m306.5/306.5 KB\u001b[0m \u001b[31m35.0 MB/s\u001b[0m eta \u001b[36m0:00:00\u001b[0m\n",
            "\u001b[?25hCollecting matplotlib==3.5.1\n",
            "  Downloading matplotlib-3.5.1-cp39-cp39-manylinux_2_5_x86_64.manylinux1_x86_64.whl (11.2 MB)\n",
            "\u001b[2K     \u001b[90m━━━━━━━━━━━━━━━━━━━━━━━━━━━━━━━━━━━━━━━━\u001b[0m \u001b[32m11.2/11.2 MB\u001b[0m \u001b[31m98.5 MB/s\u001b[0m eta \u001b[36m0:00:00\u001b[0m\n",
            "\u001b[?25hCollecting networkx==2.6.3\n",
            "  Downloading networkx-2.6.3-py3-none-any.whl (1.9 MB)\n",
            "\u001b[2K     \u001b[90m━━━━━━━━━━━━━━━━━━━━━━━━━━━━━━━━━━━━━━━━\u001b[0m \u001b[32m1.9/1.9 MB\u001b[0m \u001b[31m86.4 MB/s\u001b[0m eta \u001b[36m0:00:00\u001b[0m\n",
            "\u001b[?25hCollecting numpy==1.19.3\n",
            "  Downloading numpy-1.19.3-cp39-cp39-manylinux2010_x86_64.whl (14.9 MB)\n",
            "\u001b[2K     \u001b[90m━━━━━━━━━━━━━━━━━━━━━━━━━━━━━━━━━━━━━━━━\u001b[0m \u001b[32m14.9/14.9 MB\u001b[0m \u001b[31m87.5 MB/s\u001b[0m eta \u001b[36m0:00:00\u001b[0m\n",
            "\u001b[?25hCollecting opencv-python==4.5.4.60\n",
            "  Downloading opencv_python-4.5.4.60-cp39-cp39-manylinux_2_17_x86_64.manylinux2014_x86_64.whl (60.3 MB)\n",
            "\u001b[2K     \u001b[90m━━━━━━━━━━━━━━━━━━━━━━━━━━━━━━━━━━━━━━━━\u001b[0m \u001b[32m60.3/60.3 MB\u001b[0m \u001b[31m17.0 MB/s\u001b[0m eta \u001b[36m0:00:00\u001b[0m\n",
            "\u001b[?25hRequirement already satisfied: Pillow==8.4.0 in /usr/local/lib/python3.9/dist-packages (from -r requirements_gpu.txt (line 17)) (8.4.0)\n",
            "Collecting protobuf==3.19.1\n",
            "  Downloading protobuf-3.19.1-cp39-cp39-manylinux_2_17_x86_64.manylinux2014_x86_64.whl (1.1 MB)\n",
            "\u001b[2K     \u001b[90m━━━━━━━━━━━━━━━━━━━━━━━━━━━━━━━━━━━━━━━━\u001b[0m \u001b[32m1.1/1.1 MB\u001b[0m \u001b[31m74.0 MB/s\u001b[0m eta \u001b[36m0:00:00\u001b[0m\n",
            "\u001b[?25hCollecting pyclipper==1.3.0.post2\n",
            "  Downloading pyclipper-1.3.0.post2-cp39-cp39-manylinux_2_5_x86_64.manylinux1_x86_64.whl (606 kB)\n",
            "\u001b[2K     \u001b[90m━━━━━━━━━━━━━━━━━━━━━━━━━━━━━━━━━━━━━━\u001b[0m \u001b[32m606.3/606.3 KB\u001b[0m \u001b[31m56.9 MB/s\u001b[0m eta \u001b[36m0:00:00\u001b[0m\n",
            "\u001b[?25hCollecting pyparsing==3.0.6\n",
            "  Downloading pyparsing-3.0.6-py3-none-any.whl (97 kB)\n",
            "\u001b[2K     \u001b[90m━━━━━━━━━━━━━━━━━━━━━━━━━━━━━━━━━━━━━━━━\u001b[0m \u001b[32m97.6/97.6 KB\u001b[0m \u001b[31m14.5 MB/s\u001b[0m eta \u001b[36m0:00:00\u001b[0m\n",
            "\u001b[?25hCollecting PySimpleGUI==4.55.1\n",
            "  Downloading PySimpleGUI-4.55.1-py3-none-any.whl (394 kB)\n",
            "\u001b[2K     \u001b[90m━━━━━━━━━━━━━━━━━━━━━━━━━━━━━━━━━━━━━━\u001b[0m \u001b[32m394.6/394.6 KB\u001b[0m \u001b[31m43.6 MB/s\u001b[0m eta \u001b[36m0:00:00\u001b[0m\n",
            "\u001b[?25hRequirement already satisfied: python-dateutil==2.8.2 in /usr/local/lib/python3.9/dist-packages (from -r requirements_gpu.txt (line 22)) (2.8.2)\n",
            "Collecting python-Levenshtein-wheels==0.13.2\n",
            "  Downloading python_Levenshtein_wheels-0.13.2-cp39-cp39-manylinux2010_x86_64.whl (149 kB)\n",
            "\u001b[2K     \u001b[90m━━━━━━━━━━━━━━━━━━━━━━━━━━━━━━━━━━━━━━\u001b[0m \u001b[32m149.7/149.7 KB\u001b[0m \u001b[31m19.8 MB/s\u001b[0m eta \u001b[36m0:00:00\u001b[0m\n",
            "\u001b[?25hCollecting PyWavelets==1.2.0\n",
            "  Downloading PyWavelets-1.2.0-cp39-cp39-manylinux_2_5_x86_64.manylinux1_x86_64.manylinux_2_12_x86_64.manylinux2010_x86_64.whl (6.6 MB)\n",
            "\u001b[2K     \u001b[90m━━━━━━━━━━━━━━━━━━━━━━━━━━━━━━━━━━━━━━━━\u001b[0m \u001b[32m6.6/6.6 MB\u001b[0m \u001b[31m83.9 MB/s\u001b[0m eta \u001b[36m0:00:00\u001b[0m\n",
            "\u001b[?25hCollecting requests==2.26.0\n",
            "  Downloading requests-2.26.0-py2.py3-none-any.whl (62 kB)\n",
            "\u001b[2K     \u001b[90m━━━━━━━━━━━━━━━━━━━━━━━━━━━━━━━━━━━━━━━━\u001b[0m \u001b[32m62.3/62.3 KB\u001b[0m \u001b[31m3.3 MB/s\u001b[0m eta \u001b[36m0:00:00\u001b[0m\n",
            "\u001b[?25hCollecting scikit-image==0.19.1\n",
            "  Downloading scikit_image-0.19.1-cp39-cp39-manylinux_2_17_x86_64.manylinux2014_x86_64.whl (13.8 MB)\n",
            "\u001b[2K     \u001b[90m━━━━━━━━━━━━━━━━━━━━━━━━━━━━━━━━━━━━━━━━\u001b[0m \u001b[32m13.8/13.8 MB\u001b[0m \u001b[31m88.4 MB/s\u001b[0m eta \u001b[36m0:00:00\u001b[0m\n",
            "\u001b[?25hCollecting scipy==1.7.3\n",
            "  Downloading scipy-1.7.3-cp39-cp39-manylinux_2_17_x86_64.manylinux2014_x86_64.whl (39.8 MB)\n",
            "\u001b[2K     \u001b[90m━━━━━━━━━━━━━━━━━━━━━━━━━━━━━━━━━━━━━━━━\u001b[0m \u001b[32m39.8/39.8 MB\u001b[0m \u001b[31m14.4 MB/s\u001b[0m eta \u001b[36m0:00:00\u001b[0m\n",
            "\u001b[?25hCollecting six==1.16.0\n",
            "  Downloading six-1.16.0-py2.py3-none-any.whl (11 kB)\n",
            "Collecting tifffile==2021.11.2\n",
            "  Downloading tifffile-2021.11.2-py3-none-any.whl (178 kB)\n",
            "\u001b[2K     \u001b[90m━━━━━━━━━━━━━━━━━━━━━━━━━━━━━━━━━━━━━━\u001b[0m \u001b[32m178.9/178.9 KB\u001b[0m \u001b[31m24.2 MB/s\u001b[0m eta \u001b[36m0:00:00\u001b[0m\n",
            "\u001b[?25hCollecting urllib3==1.26.7\n",
            "  Downloading urllib3-1.26.7-py2.py3-none-any.whl (138 kB)\n",
            "\u001b[2K     \u001b[90m━━━━━━━━━━━━━━━━━━━━━━━━━━━━━━━━━━━━━━\u001b[0m \u001b[32m138.8/138.8 KB\u001b[0m \u001b[31m18.0 MB/s\u001b[0m eta \u001b[36m0:00:00\u001b[0m\n",
            "\u001b[?25hCollecting pysrt==1.1.2\n",
            "  Downloading pysrt-1.1.2.tar.gz (104 kB)\n",
            "\u001b[2K     \u001b[90m━━━━━━━━━━━━━━━━━━━━━━━━━━━━━━━━━━━━━━\u001b[0m \u001b[32m104.4/104.4 KB\u001b[0m \u001b[31m13.6 MB/s\u001b[0m eta \u001b[36m0:00:00\u001b[0m\n",
            "\u001b[?25h  Preparing metadata (setup.py) ... \u001b[?25l\u001b[?25hdone\n",
            "Collecting wordsegment==1.3.1\n",
            "  Downloading wordsegment-1.3.1-py2.py3-none-any.whl (4.8 MB)\n",
            "\u001b[2K     \u001b[90m━━━━━━━━━━━━━━━━━━━━━━━━━━━━━━━━━━━━━━━━\u001b[0m \u001b[32m4.8/4.8 MB\u001b[0m \u001b[31m101.4 MB/s\u001b[0m eta \u001b[36m0:00:00\u001b[0m\n",
            "\u001b[?25hCollecting tqdm==4.63.1\n",
            "  Downloading tqdm-4.63.1-py2.py3-none-any.whl (76 kB)\n",
            "\u001b[2K     \u001b[90m━━━━━━━━━━━━━━━━━━━━━━━━━━━━━━━━━━━━━━━━\u001b[0m \u001b[32m76.6/76.6 KB\u001b[0m \u001b[31m8.9 MB/s\u001b[0m eta \u001b[36m0:00:00\u001b[0m\n",
            "\u001b[?25hCollecting multiprocess==0.70.12.2\n",
            "  Downloading multiprocess-0.70.12.2-py39-none-any.whl (128 kB)\n",
            "\u001b[2K     \u001b[90m━━━━━━━━━━━━━━━━━━━━━━━━━━━━━━━━━━━━━━\u001b[0m \u001b[32m128.7/128.7 KB\u001b[0m \u001b[31m16.2 MB/s\u001b[0m eta \u001b[36m0:00:00\u001b[0m\n",
            "\u001b[?25hRequirement already satisfied: Shapely in /usr/local/lib/python3.9/dist-packages (from imgaug==0.4.0->-r requirements_gpu.txt (line 10)) (2.0.1)\n",
            "Requirement already satisfied: fonttools>=4.22.0 in /usr/local/lib/python3.9/dist-packages (from matplotlib==3.5.1->-r requirements_gpu.txt (line 13)) (4.39.0)\n",
            "Requirement already satisfied: packaging>=20.0 in /usr/local/lib/python3.9/dist-packages (from matplotlib==3.5.1->-r requirements_gpu.txt (line 13)) (23.0)\n",
            "Collecting charset-normalizer~=2.0.0\n",
            "  Downloading charset_normalizer-2.0.12-py3-none-any.whl (39 kB)\n",
            "Collecting dill>=0.3.4\n",
            "  Downloading dill-0.3.6-py3-none-any.whl (110 kB)\n",
            "\u001b[2K     \u001b[90m━━━━━━━━━━━━━━━━━━━━━━━━━━━━━━━━━━━━━━\u001b[0m \u001b[32m110.5/110.5 KB\u001b[0m \u001b[31m15.8 MB/s\u001b[0m eta \u001b[36m0:00:00\u001b[0m\n",
            "\u001b[?25hBuilding wheels for collected packages: filesplit, pysrt\n",
            "  Building wheel for filesplit (setup.py) ... \u001b[?25l\u001b[?25hdone\n",
            "  Created wheel for filesplit: filename=filesplit-3.0.2-py3-none-any.whl size=4935 sha256=5efe219c531423412a5264893d70305a88b0efe362c5cf57c2b9fd64bab96f9b\n",
            "  Stored in directory: /root/.cache/pip/wheels/af/f5/f6/8d0514e8d66e8f1978e9a8fb9f14963520e1c1712410f7aa00\n",
            "  Building wheel for pysrt (setup.py) ... \u001b[?25l\u001b[?25hdone\n",
            "  Created wheel for pysrt: filename=pysrt-1.1.2-py3-none-any.whl size=13443 sha256=efa1c1663af0212c82103047a67079ee049bc067c4eb11cb5506e73e7e867d50\n",
            "  Stored in directory: /root/.cache/pip/wheels/c3/34/f1/ae1d86b7f454100c10f7ab8dc411303b7834e7f40e343ca2c0\n",
            "Successfully built filesplit pysrt\n",
            "Installing collected packages: wordsegment, python-Levenshtein-wheels, PySimpleGUI, pyclipper, lmdb, filesplit, certifi, urllib3, tqdm, six, pysrt, pyparsing, protobuf, numpy, networkx, kiwisolver, idna, gast, dill, decorator, charset-normalizer, astor, tifffile, scipy, requests, PyWavelets, opencv-python, multiprocess, imageio, scikit-image, matplotlib\n",
            "  Attempting uninstall: certifi\n",
            "    Found existing installation: certifi 2022.12.7\n",
            "    Uninstalling certifi-2022.12.7:\n",
            "      Successfully uninstalled certifi-2022.12.7\n",
            "  Attempting uninstall: urllib3\n",
            "    Found existing installation: urllib3 1.26.15\n",
            "    Uninstalling urllib3-1.26.15:\n",
            "      Successfully uninstalled urllib3-1.26.15\n",
            "  Attempting uninstall: tqdm\n",
            "    Found existing installation: tqdm 4.65.0\n",
            "    Uninstalling tqdm-4.65.0:\n",
            "      Successfully uninstalled tqdm-4.65.0\n",
            "  Attempting uninstall: six\n",
            "    Found existing installation: six 1.15.0\n",
            "    Uninstalling six-1.15.0:\n",
            "      Successfully uninstalled six-1.15.0\n",
            "  Attempting uninstall: pyparsing\n",
            "    Found existing installation: pyparsing 3.0.9\n",
            "    Uninstalling pyparsing-3.0.9:\n",
            "      Successfully uninstalled pyparsing-3.0.9\n",
            "  Attempting uninstall: protobuf\n",
            "    Found existing installation: protobuf 3.19.6\n",
            "    Uninstalling protobuf-3.19.6:\n",
            "      Successfully uninstalled protobuf-3.19.6\n",
            "  Attempting uninstall: numpy\n",
            "    Found existing installation: numpy 1.22.4\n",
            "    Uninstalling numpy-1.22.4:\n",
            "      Successfully uninstalled numpy-1.22.4\n",
            "  Attempting uninstall: networkx\n",
            "    Found existing installation: networkx 3.0\n",
            "    Uninstalling networkx-3.0:\n",
            "      Successfully uninstalled networkx-3.0\n",
            "  Attempting uninstall: kiwisolver\n",
            "    Found existing installation: kiwisolver 1.4.4\n",
            "    Uninstalling kiwisolver-1.4.4:\n",
            "      Successfully uninstalled kiwisolver-1.4.4\n",
            "  Attempting uninstall: idna\n",
            "    Found existing installation: idna 2.10\n",
            "    Uninstalling idna-2.10:\n",
            "      Successfully uninstalled idna-2.10\n",
            "  Attempting uninstall: gast\n",
            "    Found existing installation: gast 0.4.0\n",
            "    Uninstalling gast-0.4.0:\n",
            "      Successfully uninstalled gast-0.4.0\n",
            "  Attempting uninstall: decorator\n",
            "    Found existing installation: decorator 4.4.2\n",
            "    Uninstalling decorator-4.4.2:\n",
            "      Successfully uninstalled decorator-4.4.2\n",
            "  Attempting uninstall: tifffile\n",
            "    Found existing installation: tifffile 2023.2.28\n",
            "    Uninstalling tifffile-2023.2.28:\n",
            "      Successfully uninstalled tifffile-2023.2.28\n",
            "  Attempting uninstall: scipy\n",
            "    Found existing installation: scipy 1.10.1\n",
            "    Uninstalling scipy-1.10.1:\n",
            "      Successfully uninstalled scipy-1.10.1\n",
            "  Attempting uninstall: requests\n",
            "    Found existing installation: requests 2.25.1\n",
            "    Uninstalling requests-2.25.1:\n",
            "      Successfully uninstalled requests-2.25.1\n",
            "  Attempting uninstall: PyWavelets\n",
            "    Found existing installation: PyWavelets 1.4.1\n",
            "    Uninstalling PyWavelets-1.4.1:\n",
            "      Successfully uninstalled PyWavelets-1.4.1\n",
            "  Attempting uninstall: opencv-python\n",
            "    Found existing installation: opencv-python 4.6.0.66\n",
            "    Uninstalling opencv-python-4.6.0.66:\n",
            "      Successfully uninstalled opencv-python-4.6.0.66\n",
            "  Attempting uninstall: imageio\n",
            "    Found existing installation: imageio 2.9.0\n",
            "    Uninstalling imageio-2.9.0:\n",
            "      Successfully uninstalled imageio-2.9.0\n",
            "  Attempting uninstall: scikit-image\n",
            "    Found existing installation: scikit-image 0.19.3\n",
            "    Uninstalling scikit-image-0.19.3:\n",
            "      Successfully uninstalled scikit-image-0.19.3\n",
            "  Attempting uninstall: matplotlib\n",
            "    Found existing installation: matplotlib 3.7.1\n",
            "    Uninstalling matplotlib-3.7.1:\n",
            "      Successfully uninstalled matplotlib-3.7.1\n",
            "\u001b[31mERROR: pip's dependency resolver does not currently take into account all the packages that are installed. This behaviour is the source of the following dependency conflicts.\n",
            "ipython 7.9.0 requires jedi>=0.10, which is not installed.\n",
            "xarray 2022.12.0 requires numpy>=1.20, but you have numpy 1.19.3 which is incompatible.\n",
            "xarray-einstats 0.5.1 requires numpy>=1.20, but you have numpy 1.19.3 which is incompatible.\n",
            "tensorflow 2.11.0 requires gast<=0.4.0,>=0.2.1, but you have gast 0.5.3 which is incompatible.\n",
            "tensorflow 2.11.0 requires numpy>=1.20, but you have numpy 1.19.3 which is incompatible.\n",
            "tensorflow-hub 0.13.0 requires protobuf>=3.19.6, but you have protobuf 3.19.1 which is incompatible.\n",
            "moviepy 0.2.3.5 requires decorator<5.0,>=4.0.2, but you have decorator 5.1.0 which is incompatible.\n",
            "jaxlib 0.4.4+cuda11.cudnn82 requires numpy>=1.20, but you have numpy 1.19.3 which is incompatible.\n",
            "jax 0.4.4 requires numpy>=1.20, but you have numpy 1.19.3 which is incompatible.\n",
            "googleapis-common-protos 1.58.0 requires protobuf!=3.20.0,!=3.20.1,!=4.21.1,!=4.21.2,!=4.21.3,!=4.21.4,!=4.21.5,<5.0.0dev,>=3.19.5, but you have protobuf 3.19.1 which is incompatible.\n",
            "google-cloud-translate 3.8.4 requires protobuf!=3.20.0,!=3.20.1,!=4.21.0,!=4.21.1,!=4.21.2,!=4.21.3,!=4.21.4,!=4.21.5,<5.0.0dev,>=3.19.5, but you have protobuf 3.19.1 which is incompatible.\n",
            "google-cloud-language 2.6.1 requires protobuf!=3.20.0,!=3.20.1,!=4.21.0,!=4.21.1,!=4.21.2,!=4.21.3,!=4.21.4,!=4.21.5,<5.0.0dev,>=3.19.5, but you have protobuf 3.19.1 which is incompatible.\n",
            "google-cloud-firestore 2.7.3 requires protobuf!=3.20.0,!=3.20.1,!=4.21.0,!=4.21.1,!=4.21.2,!=4.21.3,!=4.21.4,!=4.21.5,<5.0.0dev,>=3.19.5, but you have protobuf 3.19.1 which is incompatible.\n",
            "google-cloud-datastore 2.11.1 requires protobuf!=3.20.0,!=3.20.1,!=4.21.0,!=4.21.1,!=4.21.2,!=4.21.3,!=4.21.4,!=4.21.5,<5.0.0dev,>=3.19.5, but you have protobuf 3.19.1 which is incompatible.\n",
            "google-cloud-bigquery 3.4.2 requires protobuf!=3.20.0,!=3.20.1,!=4.21.0,!=4.21.1,!=4.21.2,!=4.21.3,!=4.21.4,!=4.21.5,<5.0.0dev,>=3.19.5, but you have protobuf 3.19.1 which is incompatible.\n",
            "google-cloud-bigquery-storage 2.19.0 requires protobuf!=3.20.0,!=3.20.1,!=4.21.0,!=4.21.1,!=4.21.2,!=4.21.3,!=4.21.4,!=4.21.5,<5.0.0dev,>=3.19.5, but you have protobuf 3.19.1 which is incompatible.\n",
            "google-api-core 2.11.0 requires protobuf!=3.20.0,!=3.20.1,!=4.21.0,!=4.21.1,!=4.21.2,!=4.21.3,!=4.21.4,!=4.21.5,<5.0.0dev,>=3.19.5, but you have protobuf 3.19.1 which is incompatible.\n",
            "cupy-cuda11x 11.0.0 requires numpy<1.26,>=1.20, but you have numpy 1.19.3 which is incompatible.\n",
            "cmdstanpy 1.1.0 requires numpy>=1.21, but you have numpy 1.19.3 which is incompatible.\n",
            "arviz 0.15.1 requires numpy>=1.20.0, but you have numpy 1.19.3 which is incompatible.\n",
            "arviz 0.15.1 requires scipy>=1.8.0, but you have scipy 1.7.3 which is incompatible.\u001b[0m\u001b[31m\n",
            "\u001b[0mSuccessfully installed PySimpleGUI-4.55.1 PyWavelets-1.2.0 astor-0.8.1 certifi-2021.10.8 charset-normalizer-2.0.12 decorator-5.1.0 dill-0.3.6 filesplit-3.0.2 gast-0.5.3 idna-3.3 imageio-2.13.3 kiwisolver-1.3.2 lmdb-1.2.1 matplotlib-3.5.1 multiprocess-0.70.12.2 networkx-2.6.3 numpy-1.19.3 opencv-python-4.5.4.60 protobuf-3.19.1 pyclipper-1.3.0.post2 pyparsing-3.0.6 pysrt-1.1.2 python-Levenshtein-wheels-0.13.2 requests-2.26.0 scikit-image-0.19.1 scipy-1.7.3 six-1.16.0 tifffile-2021.11.2 tqdm-4.63.1 urllib3-1.26.7 wordsegment-1.3.1\n"
          ]
        }
      ],
      "source": [
        "!pip install -r requirements_gpu.txt"
      ]
    },
    {
      "cell_type": "code",
      "execution_count": 6,
      "metadata": {
        "id": "3-GdvmaGl-aF",
        "pycharm": {
          "name": "#%%\n"
        },
        "outputId": "b9a6902e-888f-4cc0-fb3b-d0d73343cc5b",
        "colab": {
          "base_uri": "https://localhost:8080/"
        }
      },
      "outputs": [
        {
          "output_type": "stream",
          "name": "stdout",
          "text": [
            "Looking in indexes: https://pypi.org/simple, https://us-python.pkg.dev/colab-wheels/public/simple/\n",
            "Looking in links: https://www.paddlepaddle.org.cn/whl/linux/mkl/avx/stable.html\n",
            "Collecting paddlepaddle-gpu==2.4.2.post112\n",
            "  Downloading https://paddle-wheel.bj.bcebos.com/2.4.2/linux/linux-gpu-cuda11.2-cudnn8-mkl-gcc8.2-avx/paddlepaddle_gpu-2.4.2.post112-cp39-cp39-linux_x86_64.whl (548.3 MB)\n",
            "\u001b[2K     \u001b[90m━━━━━━━━━━━━━━━━━━━━━━━━━━━━━━━━━━━━━━━\u001b[0m \u001b[32m548.3/548.3 MB\u001b[0m \u001b[31m2.7 MB/s\u001b[0m eta \u001b[36m0:00:00\u001b[0m\n",
            "\u001b[?25hRequirement already satisfied: six in /usr/local/lib/python3.9/dist-packages (from paddlepaddle-gpu==2.4.2.post112) (1.16.0)\n",
            "Requirement already satisfied: requests>=2.20.0 in /usr/local/lib/python3.9/dist-packages (from paddlepaddle-gpu==2.4.2.post112) (2.26.0)\n",
            "Requirement already satisfied: astor in /usr/local/lib/python3.9/dist-packages (from paddlepaddle-gpu==2.4.2.post112) (0.8.1)\n",
            "Collecting paddle-bfloat==0.1.7\n",
            "  Downloading paddle_bfloat-0.1.7-cp39-cp39-manylinux_2_17_x86_64.manylinux2014_x86_64.whl (383 kB)\n",
            "\u001b[2K     \u001b[90m━━━━━━━━━━━━━━━━━━━━━━━━━━━━━━━━━━━━━━\u001b[0m \u001b[32m383.1/383.1 KB\u001b[0m \u001b[31m25.7 MB/s\u001b[0m eta \u001b[36m0:00:00\u001b[0m\n",
            "\u001b[?25hRequirement already satisfied: protobuf<=3.20.0,>=3.1.0 in /usr/local/lib/python3.9/dist-packages (from paddlepaddle-gpu==2.4.2.post112) (3.19.1)\n",
            "Requirement already satisfied: decorator in /usr/local/lib/python3.9/dist-packages (from paddlepaddle-gpu==2.4.2.post112) (5.1.0)\n",
            "Requirement already satisfied: opt-einsum==3.3.0 in /usr/local/lib/python3.9/dist-packages (from paddlepaddle-gpu==2.4.2.post112) (3.3.0)\n",
            "Requirement already satisfied: numpy>=1.13 in /usr/local/lib/python3.9/dist-packages (from paddlepaddle-gpu==2.4.2.post112) (1.19.3)\n",
            "Requirement already satisfied: Pillow in /usr/local/lib/python3.9/dist-packages (from paddlepaddle-gpu==2.4.2.post112) (8.4.0)\n",
            "Requirement already satisfied: idna<4,>=2.5 in /usr/local/lib/python3.9/dist-packages (from requests>=2.20.0->paddlepaddle-gpu==2.4.2.post112) (3.3)\n",
            "Requirement already satisfied: certifi>=2017.4.17 in /usr/local/lib/python3.9/dist-packages (from requests>=2.20.0->paddlepaddle-gpu==2.4.2.post112) (2021.10.8)\n",
            "Requirement already satisfied: charset-normalizer~=2.0.0 in /usr/local/lib/python3.9/dist-packages (from requests>=2.20.0->paddlepaddle-gpu==2.4.2.post112) (2.0.12)\n",
            "Requirement already satisfied: urllib3<1.27,>=1.21.1 in /usr/local/lib/python3.9/dist-packages (from requests>=2.20.0->paddlepaddle-gpu==2.4.2.post112) (1.26.7)\n",
            "Installing collected packages: paddle-bfloat, paddlepaddle-gpu\n",
            "Successfully installed paddle-bfloat-0.1.7 paddlepaddle-gpu-2.4.2.post112\n"
          ]
        }
      ],
      "source": [
        "!python -m pip install paddlepaddle-gpu==2.4.2.post112 -f https://www.paddlepaddle.org.cn/whl/linux/mkl/avx/stable.html"
      ]
    },
    {
      "cell_type": "markdown",
      "metadata": {
        "id": "SGb0i3tPyw9Q",
        "pycharm": {
          "name": "#%% md\n"
        }
      },
      "source": [
        "# 运行程序"
      ]
    },
    {
      "cell_type": "markdown",
      "metadata": {
        "pycharm": {
          "name": "#%% md\n"
        },
        "id": "CQEFIioloiRG"
      },
      "source": [
        "输入视频路径，如：/content/test.mp4\n",
        "\n",
        "输入字幕区域，如：894 1052 152 1264"
      ]
    },
    {
      "cell_type": "code",
      "execution_count": null,
      "metadata": {
        "id": "B2MPjMOOgGbD",
        "pycharm": {
          "name": "#%%\n"
        },
        "outputId": "ceeff95d-e624-4408-d2e5-92bc84a61cb8",
        "colab": {
          "base_uri": "https://localhost:8080/"
        }
      },
      "outputs": [
        {
          "output_type": "stream",
          "name": "stdout",
          "text": [
            "请输入视频完整路径：/content/video-subtitle-extractor/test/test_en.mp4\n",
            "请指定字幕区域 (ymin ymax xmin xmax)：0 300 0 1200\n",
            "识别字幕语言：ch\n",
            "识别模式：fast\n",
            "使用GPU进行加速\n",
            "帧数：3597.0，帧率：29.97002997002997\n",
            "【处理中】开启提取视频关键帧...\n",
            "【处理中】开始提取字幕信息，此步骤可能花费较长时间，请耐心等待...\n",
            "\n",
            "  0% 0/3597 [00:00<?, ?it/s]\u001b[A\n",
            "  0% 10/3597 [00:00<05:47, 10.31it/s]\u001b[A\n",
            "  1% 28/3597 [00:03<07:13,  8.23it/s]\u001b[A\n",
            "  1% 37/3597 [00:03<05:32, 10.70it/s]\u001b[A\n",
            "  1% 46/3597 [00:03<04:04, 14.52it/s]\u001b[A\n",
            "  2% 55/3597 [00:04<03:19, 17.72it/s]\u001b[A\n",
            "  2% 64/3597 [00:04<02:57, 19.87it/s]\u001b[A\n",
            "  2% 73/3597 [00:04<02:46, 21.13it/s]\u001b[A\n",
            "  2% 82/3597 [00:05<02:33, 22.88it/s]\u001b[A\n",
            "  3% 91/3597 [00:05<02:34, 22.65it/s]\u001b[A\n",
            "  3% 100/3597 [00:05<02:06, 27.69it/s]\u001b[A\n",
            "  3% 109/3597 [00:05<01:51, 31.19it/s]\u001b[A\n",
            "  3% 118/3597 [00:06<01:43, 33.54it/s]\u001b[A\n",
            "  4% 136/3597 [00:06<01:19, 43.38it/s]\u001b[A\n",
            "  4% 145/3597 [00:06<01:15, 45.57it/s]\u001b[A\n",
            "  4% 154/3597 [00:06<01:17, 44.16it/s]\u001b[A\n",
            "  5% 163/3597 [00:07<01:32, 37.00it/s]\u001b[A\n",
            "  5% 172/3597 [00:07<01:59, 28.66it/s]\u001b[A\n",
            "  5% 181/3597 [00:08<02:19, 24.47it/s]\u001b[A\n",
            "  5% 190/3597 [00:08<02:42, 20.97it/s]\u001b[A\n",
            "  6% 199/3597 [00:09<03:10, 17.85it/s]\u001b[A\n",
            "  6% 208/3597 [00:09<02:57, 19.10it/s]\u001b[A\n",
            "  6% 217/3597 [00:10<02:48, 20.09it/s]\u001b[A\n",
            "  6% 226/3597 [00:10<02:13, 25.21it/s]\u001b[A\n",
            "  7% 235/3597 [00:10<01:51, 30.14it/s]\u001b[A\n",
            "  7% 244/3597 [00:10<01:38, 34.10it/s]\u001b[A\n",
            "  7% 253/3597 [00:10<01:34, 35.45it/s]\u001b[A\n",
            "  7% 262/3597 [00:11<01:30, 36.94it/s]\u001b[A\n",
            "  8% 271/3597 [00:11<01:31, 36.35it/s]\u001b[A\n",
            "  8% 280/3597 [00:11<01:31, 36.31it/s]\u001b[A\n",
            "  8% 289/3597 [00:11<01:34, 34.99it/s]\u001b[A\n",
            "  8% 298/3597 [00:12<01:39, 33.13it/s]\u001b[A\n",
            "  9% 307/3597 [00:12<01:46, 30.94it/s]\u001b[A\n",
            "  9% 316/3597 [00:12<01:56, 28.11it/s]\u001b[A\n",
            "  9% 325/3597 [00:13<02:02, 26.78it/s]\u001b[A\n",
            "  9% 334/3597 [00:13<01:49, 29.89it/s]\u001b[A\n",
            " 10% 352/3597 [00:13<01:12, 44.75it/s]\u001b[A\n",
            " 10% 370/3597 [00:13<00:58, 54.89it/s]\u001b[A\n",
            " 11% 379/3597 [00:14<00:56, 56.49it/s]\u001b[A\n",
            " 11% 388/3597 [00:14<00:56, 57.06it/s]\u001b[A\n",
            " 11% 397/3597 [00:14<00:57, 55.82it/s]\u001b[A\n",
            " 11% 406/3597 [00:14<00:59, 53.39it/s]\u001b[A\n",
            " 12% 415/3597 [00:14<00:53, 59.06it/s]\u001b[A\n",
            " 12% 424/3597 [00:14<00:51, 62.02it/s]\u001b[A\n",
            " 12% 433/3597 [00:14<00:51, 61.57it/s]\u001b[A\n",
            " 12% 442/3597 [00:15<00:54, 57.99it/s]\u001b[A\n",
            " 13% 451/3597 [00:15<00:57, 54.33it/s]\u001b[A\n",
            " 13% 460/3597 [00:15<01:01, 51.41it/s]\u001b[A\n",
            " 13% 469/3597 [00:15<01:07, 46.20it/s]\u001b[A\n",
            " 13% 478/3597 [00:16<01:14, 42.05it/s]\u001b[A\n",
            " 14% 487/3597 [00:16<01:22, 37.88it/s]\u001b[A\n",
            " 14% 496/3597 [00:16<01:34, 32.73it/s]\u001b[A\n",
            " 14% 505/3597 [00:17<01:43, 29.88it/s]\u001b[A\n",
            " 14% 514/3597 [00:17<01:49, 28.14it/s]\u001b[A\n",
            " 15% 523/3597 [00:17<01:56, 26.48it/s]\u001b[A\n",
            " 15% 532/3597 [00:18<01:58, 25.85it/s]\u001b[A\n",
            " 15% 541/3597 [00:18<02:02, 24.96it/s]\u001b[A\n",
            " 15% 550/3597 [00:18<02:08, 23.76it/s]\u001b[A\n",
            " 16% 559/3597 [00:19<02:12, 22.99it/s]\u001b[A\n",
            " 16% 568/3597 [00:19<01:42, 29.41it/s]\u001b[A\n",
            " 16% 577/3597 [00:19<01:23, 36.13it/s]\u001b[A\n",
            " 16% 586/3597 [00:19<01:09, 43.60it/s]\u001b[A\n",
            " 17% 595/3597 [00:19<01:00, 49.37it/s]\u001b[A\n",
            " 17% 604/3597 [00:19<00:54, 54.57it/s]\u001b[A\n",
            " 17% 613/3597 [00:20<00:52, 56.86it/s]\u001b[A\n",
            " 17% 622/3597 [00:20<00:54, 54.72it/s]\u001b[A\n",
            " 18% 631/3597 [00:20<00:56, 52.52it/s]\u001b[A\n",
            " 18% 640/3597 [00:20<00:59, 49.31it/s]\u001b[A\n",
            " 18% 649/3597 [00:20<01:04, 45.56it/s]\u001b[A\n",
            " 18% 658/3597 [00:21<01:08, 42.90it/s]\u001b[A\n",
            " 19% 667/3597 [00:21<01:12, 40.48it/s]\u001b[A\n",
            " 19% 676/3597 [00:21<01:16, 38.27it/s]\u001b[A\n",
            " 19% 685/3597 [00:21<01:20, 36.02it/s]\u001b[A\n",
            " 19% 694/3597 [00:22<01:24, 34.23it/s]\u001b[A\n",
            " 20% 703/3597 [00:22<01:27, 33.22it/s]\u001b[A\n",
            " 20% 721/3597 [00:22<00:59, 48.72it/s]\u001b[A\n",
            " 20% 730/3597 [00:22<00:52, 54.63it/s]\u001b[A\n",
            " 21% 748/3597 [00:22<00:42, 66.72it/s]\u001b[A\n",
            " 21% 766/3597 [00:23<00:38, 72.67it/s]\u001b[A\n",
            " 22% 775/3597 [00:23<00:41, 68.65it/s]\u001b[A\n",
            " 22% 784/3597 [00:23<00:48, 57.90it/s]\u001b[A\n",
            " 22% 793/3597 [00:23<00:58, 47.78it/s]\u001b[A\n",
            " 22% 802/3597 [00:24<00:56, 49.67it/s]\u001b[A\n",
            " 23% 811/3597 [00:24<00:59, 47.20it/s]\u001b[A\n",
            " 23% 820/3597 [00:24<01:03, 44.02it/s]\u001b[A\n",
            " 23% 829/3597 [00:24<01:06, 41.45it/s]\u001b[A\n",
            " 23% 838/3597 [00:25<01:14, 37.19it/s]\u001b[A\n",
            " 24% 847/3597 [00:25<01:22, 33.35it/s]\u001b[A\n",
            " 24% 856/3597 [00:25<01:10, 38.63it/s]\u001b[A\n",
            " 24% 865/3597 [00:25<01:03, 42.81it/s]\u001b[A\n",
            " 24% 874/3597 [00:25<01:02, 43.62it/s]\u001b[A\n",
            " 25% 883/3597 [00:26<01:04, 42.40it/s]\u001b[A\n",
            " 25% 892/3597 [00:26<01:06, 40.39it/s]\u001b[A\n",
            " 25% 901/3597 [00:26<01:07, 40.16it/s]\u001b[A\n",
            " 25% 910/3597 [00:26<01:14, 36.01it/s]\u001b[A\n",
            " 26% 919/3597 [00:27<01:20, 33.26it/s]\u001b[A\n",
            " 26% 928/3597 [00:27<01:07, 39.44it/s]\u001b[A\n",
            " 26% 937/3597 [00:27<01:02, 42.70it/s]\u001b[A\n",
            " 26% 946/3597 [00:27<00:58, 45.01it/s]\u001b[A\n",
            " 27% 955/3597 [00:27<00:58, 45.39it/s]\u001b[A\n",
            " 27% 964/3597 [00:28<01:01, 42.61it/s]\u001b[A\n",
            " 27% 973/3597 [00:28<01:07, 38.83it/s]\u001b[A\n",
            " 27% 982/3597 [00:28<01:10, 37.30it/s]\u001b[A\n",
            " 28% 991/3597 [00:28<00:59, 43.58it/s]\u001b[A\n",
            " 28% 1000/3597 [00:28<00:51, 50.80it/s]\u001b[A\n",
            " 28% 1009/3597 [00:29<00:50, 51.75it/s]\u001b[A\n",
            " 28% 1018/3597 [00:29<00:54, 47.56it/s]\u001b[A\n",
            " 29% 1027/3597 [00:29<00:55, 46.23it/s]\u001b[A\n",
            " 29% 1036/3597 [00:29<00:52, 48.70it/s]\u001b[A\n",
            " 29% 1045/3597 [00:29<00:49, 51.44it/s]\u001b[A\n",
            " 29% 1054/3597 [00:29<00:47, 53.08it/s]\u001b[A\n",
            " 30% 1063/3597 [00:30<00:48, 52.39it/s]\u001b[A\n",
            " 30% 1072/3597 [00:30<00:48, 51.81it/s]\u001b[A\n",
            " 30% 1081/3597 [00:30<00:50, 49.57it/s]\u001b[A\n",
            " 30% 1090/3597 [00:30<00:53, 47.14it/s]\u001b[A\n",
            " 31% 1108/3597 [00:30<00:39, 62.26it/s]\u001b[A\n",
            " 31% 1117/3597 [00:31<00:37, 65.56it/s]\u001b[A\n",
            " 31% 1126/3597 [00:31<00:37, 65.32it/s]\u001b[A\n",
            " 32% 1135/3597 [00:31<00:38, 63.84it/s]\u001b[A\n",
            " 32% 1144/3597 [00:31<00:40, 61.15it/s]\u001b[A\n",
            " 32% 1162/3597 [00:31<00:32, 76.06it/s]\u001b[A\n",
            " 33% 1171/3597 [00:31<00:31, 77.63it/s]\u001b[A\n",
            " 33% 1180/3597 [00:31<00:31, 77.25it/s]\u001b[A\n",
            " 33% 1189/3597 [00:32<00:31, 75.76it/s]\u001b[A\n",
            " 33% 1198/3597 [00:32<00:34, 69.80it/s]\u001b[A\n",
            " 34% 1207/3597 [00:32<00:36, 66.23it/s]\u001b[A\n",
            " 34% 1216/3597 [00:32<00:38, 61.58it/s]\u001b[A\n",
            " 34% 1225/3597 [00:32<00:41, 57.42it/s]\u001b[A\n",
            " 34% 1234/3597 [00:32<00:44, 52.73it/s]\u001b[A\n",
            " 35% 1243/3597 [00:33<00:48, 48.75it/s]\u001b[A\n",
            " 35% 1252/3597 [00:33<00:53, 44.15it/s]\u001b[A\n",
            " 35% 1261/3597 [00:33<00:55, 41.89it/s]\u001b[A\n",
            " 35% 1270/3597 [00:33<00:59, 39.39it/s]\u001b[A\n",
            " 36% 1279/3597 [00:34<01:03, 36.56it/s]\u001b[A\n",
            " 36% 1297/3597 [00:34<00:44, 52.14it/s]\u001b[A\n",
            " 36% 1306/3597 [00:34<00:44, 51.90it/s]\u001b[A\n",
            " 37% 1315/3597 [00:34<00:40, 56.00it/s]\u001b[A\n",
            " 37% 1324/3597 [00:34<00:39, 57.30it/s]\u001b[A\n",
            " 37% 1333/3597 [00:34<00:39, 56.62it/s]\u001b[A\n",
            " 37% 1342/3597 [00:35<00:41, 54.91it/s]\u001b[A\n",
            " 38% 1351/3597 [00:35<00:43, 51.83it/s]\u001b[A\n",
            " 38% 1360/3597 [00:35<00:45, 48.90it/s]\u001b[A\n",
            " 38% 1369/3597 [00:35<00:39, 56.48it/s]\u001b[A\n",
            " 38% 1378/3597 [00:35<00:36, 61.62it/s]\u001b[A\n",
            " 39% 1387/3597 [00:35<00:35, 62.91it/s]\u001b[A\n",
            " 39% 1396/3597 [00:35<00:35, 62.81it/s]\u001b[A\n",
            " 39% 1405/3597 [00:36<00:36, 59.79it/s]\u001b[A\n",
            " 39% 1414/3597 [00:36<00:38, 56.60it/s]\u001b[A\n",
            " 40% 1423/3597 [00:36<00:41, 52.94it/s]\u001b[A\n",
            " 40% 1432/3597 [00:36<00:44, 48.62it/s]\u001b[A\n",
            " 40% 1441/3597 [00:37<00:49, 43.99it/s]\u001b[A\n",
            " 40% 1450/3597 [00:37<00:53, 40.36it/s]\u001b[A\n",
            " 41% 1459/3597 [00:37<00:56, 37.84it/s]\u001b[A\n",
            " 41% 1468/3597 [00:37<01:03, 33.75it/s]\u001b[A\n",
            " 41% 1477/3597 [00:38<01:07, 31.23it/s]\u001b[A\n",
            " 41% 1486/3597 [00:38<01:12, 29.19it/s]\u001b[A\n",
            " 42% 1495/3597 [00:38<01:15, 27.79it/s]\u001b[A\n",
            " 42% 1504/3597 [00:39<01:19, 26.29it/s]\u001b[A\n",
            " 42% 1513/3597 [00:39<01:32, 22.52it/s]\u001b[A\n",
            " 42% 1522/3597 [00:40<01:56, 17.80it/s]\u001b[A\n",
            " 43% 1531/3597 [00:40<01:31, 22.48it/s]\u001b[A\n",
            " 43% 1540/3597 [00:40<01:16, 26.99it/s]\u001b[A\n",
            " 43% 1549/3597 [00:41<01:08, 29.96it/s]\u001b[A\n",
            " 43% 1558/3597 [00:41<01:03, 32.28it/s]\u001b[A\n",
            " 44% 1567/3597 [00:41<01:04, 31.61it/s]\u001b[A\n",
            " 44% 1576/3597 [00:41<01:04, 31.26it/s]\u001b[A\n",
            " 44% 1585/3597 [00:42<01:06, 30.43it/s]\u001b[A\n",
            " 44% 1594/3597 [00:42<01:10, 28.24it/s]\u001b[A\n",
            " 45% 1603/3597 [00:43<01:18, 25.39it/s]\u001b[A\n",
            " 45% 1612/3597 [00:43<01:06, 29.66it/s]\u001b[A\n",
            " 45% 1621/3597 [00:43<01:00, 32.46it/s]\u001b[A\n",
            " 45% 1630/3597 [00:43<01:00, 32.52it/s]\u001b[A\n",
            " 46% 1639/3597 [00:44<00:57, 34.25it/s]\u001b[A\n",
            " 46% 1648/3597 [00:44<00:59, 32.95it/s]\u001b[A\n",
            " 46% 1657/3597 [00:44<01:06, 29.25it/s]\u001b[A\n",
            " 46% 1666/3597 [00:45<01:13, 26.23it/s]\u001b[A\n",
            " 47% 1675/3597 [00:45<01:15, 25.30it/s]\u001b[A\n",
            " 47% 1684/3597 [00:45<01:23, 22.84it/s]\u001b[A\n",
            " 47% 1693/3597 [00:46<01:25, 22.36it/s]\u001b[A\n",
            " 47% 1702/3597 [00:46<01:20, 23.63it/s]\u001b[A\n",
            " 48% 1711/3597 [00:47<01:15, 24.93it/s]\u001b[A\n",
            " 48% 1720/3597 [00:47<01:14, 25.15it/s]\u001b[A\n",
            " 48% 1729/3597 [00:47<01:14, 25.10it/s]\u001b[A\n",
            " 48% 1738/3597 [00:48<01:13, 25.16it/s]\u001b[A\n",
            " 49% 1747/3597 [00:48<01:16, 24.26it/s]\u001b[A\n",
            " 49% 1756/3597 [00:48<01:17, 23.62it/s]\u001b[A\n",
            " 49% 1765/3597 [00:49<01:18, 23.27it/s]\u001b[A\n",
            " 49% 1774/3597 [00:49<01:20, 22.68it/s]\u001b[A\n",
            " 50% 1792/3597 [00:49<00:50, 35.65it/s]\u001b[A\n",
            " 50% 1810/3597 [00:50<00:38, 46.28it/s]\u001b[A\n",
            " 51% 1819/3597 [00:50<00:35, 50.73it/s]\u001b[A\n",
            " 51% 1828/3597 [00:50<00:32, 54.48it/s]\u001b[A\n",
            " 51% 1837/3597 [00:50<00:31, 55.93it/s]\u001b[A\n",
            " 51% 1846/3597 [00:50<00:31, 56.06it/s]\u001b[A\n",
            " 52% 1855/3597 [00:50<00:32, 53.57it/s]\u001b[A\n",
            " 52% 1864/3597 [00:51<00:33, 51.85it/s]\u001b[A\n",
            " 52% 1873/3597 [00:51<00:34, 50.25it/s]\u001b[A\n",
            " 52% 1882/3597 [00:51<00:35, 48.19it/s]\u001b[A\n",
            " 53% 1891/3597 [00:51<00:36, 46.35it/s]\u001b[A\n",
            " 53% 1900/3597 [00:51<00:38, 44.29it/s]\u001b[A\n",
            " 53% 1909/3597 [00:52<00:40, 41.96it/s]\u001b[A\n",
            " 53% 1918/3597 [00:52<00:42, 39.75it/s]\u001b[A\n",
            " 54% 1927/3597 [00:52<00:44, 37.94it/s]\u001b[A\n",
            " 54% 1936/3597 [00:52<00:47, 35.20it/s]\u001b[A\n",
            " 54% 1945/3597 [00:53<00:49, 33.24it/s]\u001b[A\n",
            " 54% 1954/3597 [00:53<00:52, 31.40it/s]\u001b[A\n",
            " 55% 1963/3597 [00:53<00:54, 29.83it/s]\u001b[A\n",
            " 55% 1972/3597 [00:54<00:57, 28.49it/s]\u001b[A\n",
            " 55% 1981/3597 [00:54<00:58, 27.61it/s]\u001b[A"
          ]
        }
      ],
      "source": [
        "!python ./backend/main.py"
      ]
    }
  ],
  "metadata": {
    "accelerator": "GPU",
    "colab": {
      "name": "video-subtitle-extractor.ipynb",
      "provenance": []
    },
    "kernelspec": {
      "display_name": "Python 3 (ipykernel)",
      "language": "python",
      "name": "python3"
    },
    "language_info": {
      "codemirror_mode": {
        "name": "ipython",
        "version": 3
      },
      "file_extension": ".py",
      "mimetype": "text/x-python",
      "name": "python",
      "nbconvert_exporter": "python",
      "pygments_lexer": "ipython3",
      "version": "3.8.5"
    }
  },
  "nbformat": 4,
  "nbformat_minor": 0
}