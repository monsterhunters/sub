{
  "nbformat": 4,
  "nbformat_minor": 0,
  "metadata": {
    "colab": {
      "provenance": [],
      "authorship_tag": "ABX9TyNpaB66UYM7Ukfdtkhvfqm4",
      "include_colab_link": true
    },
    "kernelspec": {
      "name": "python3",
      "display_name": "Python 3"
    },
    "language_info": {
      "name": "python"
    },
    "accelerator": "GPU",
    "gpuClass": "standard"
  },
  "cells": [
    {
      "cell_type": "markdown",
      "metadata": {
        "id": "view-in-github",
        "colab_type": "text"
      },
      "source": [
        "<a href=\"https://colab.research.google.com/github/monsterhunters/sub/blob/dev/Manga%20Cleaner.ipynb\" target=\"_parent\"><img src=\"https://colab.research.google.com/assets/colab-badge.svg\" alt=\"Open In Colab\"/></a>"
      ]
    },
    {
      "cell_type": "markdown",
      "source": [
        "<center>Manga Cleaner</center>"
      ],
      "metadata": {
        "id": "I1_iLw0Wl3tt"
      }
    },
    {
      "cell_type": "code",
      "source": [
        "!git clone https://github.com/Aeonss/BubbleBlaster.git\n",
        "%cd /content/BubbleBlaster\n",
        "!pip install -r requirements.txt"
      ],
      "metadata": {
        "id": "w_RNVZE1d5C3"
      },
      "execution_count": null,
      "outputs": []
    },
    {
      "cell_type": "code",
      "source": [
        "!python bubbleblaster.py -i \"/content/5.jpg\""
      ],
      "metadata": {
        "id": "0YiNJA0IeW6H"
      },
      "execution_count": null,
      "outputs": []
    }
  ]
}