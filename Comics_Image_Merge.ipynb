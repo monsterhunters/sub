{
  "nbformat": 4,
  "nbformat_minor": 0,
  "metadata": {
    "colab": {
      "provenance": [],
      "include_colab_link": true
    },
    "kernelspec": {
      "name": "python3",
      "display_name": "Python 3"
    },
    "language_info": {
      "name": "python"
    }
  },
  "cells": [
    {
      "cell_type": "markdown",
      "metadata": {
        "id": "view-in-github",
        "colab_type": "text"
      },
      "source": [
        "<a href=\"https://colab.research.google.com/github/monsterhunters/sub/blob/dev/Comics_Image_Merge.ipynb\" target=\"_parent\"><img src=\"https://colab.research.google.com/assets/colab-badge.svg\" alt=\"Open In Colab\"/></a>"
      ]
    },
    {
      "cell_type": "code",
      "source": [
        "#@title ← Upload Images from Video Sub Finder for OCR\n",
        "#@markdown - Please Upload RAR file contaning Images (RGB Images)\n",
        "#@markdown - Gdrive Link format must be format as below (Otherwise downloaded file will not work)\n",
        "#@markdown - <code>https://drive.google.com/file/d/15EN9PmzV3YTfgMR9Ezhy_k8U3eXVaT9l/view?usp=sharing</code>\n",
        "\n",
        "\n",
        "import gdown, os, re\n",
        "os.system('pip install gdown')\n",
        "os.system('pip install --upgrade gdown') #gdrive fix\n",
        "os.system('pip install --upgrade google-api-python-client google-auth-httplib2 google-auth-oauthlib')\n",
        "\n",
        "Upload_from = \"Gdrive\" #@param [\"Gdrive\",\"Gdrive2\",\"PC\", \"Direct Link\"]\n",
        "url = \"\" #@param {type:\"string\"}\n",
        "pattern = \"d/(.*?)\\/v\"\n",
        "gdrivefile_id = re.search(pattern, url).group(1)\n",
        "\n",
        "if Upload_from == \"Gdrive\":\n",
        "  gdown.download(id=gdrivefile_id, output=\"RGBimages.rar\", quiet=False)\n",
        "\n",
        "#elif Upload_from == \"Gdrive2\":\n",
        "#  !cloud-download --link \"$url\" --filename RGBimages.rar\n",
        "#  print(\"Downloaded [2560=ERR]\")\n",
        "\n",
        "elif Upload_from == \"Gdrive2\":\n",
        "  from pydrive.auth import GoogleAuth\n",
        "  from pydrive.drive import GoogleDrive\n",
        "  from google.colab import auth\n",
        "  from oauth2client.client import GoogleCredentials\n",
        "# Authenticate and create the PyDrive client.\n",
        "# This only needs to be done once per notebook.\n",
        "  auth.authenticate_user()\n",
        "  gauth = GoogleAuth()\n",
        "  gauth.credentials = GoogleCredentials.get_application_default()\n",
        "  drive = GoogleDrive(gauth)\n",
        "  downloaded = drive.CreateFile({'id': gdrivefile_id})\n",
        "  downloaded.GetContentFile('RGBimages.rar')\n",
        "\n",
        "elif Upload_from == \"PC\":\n",
        " from google.colab import files\n",
        " uploaded = files.upload()\n",
        "\n",
        "else:\n",
        " os.system('pip install wget')\n",
        " import wget\n",
        " filename = wget.download(url)\n",
        " print(filename)\n",
        " print(\"Downloaded\")\n",
        " \n",
        "os.system('cp *.rar backup.bak')\n",
        "\n",
        "#Codemaster V4.0\n",
        "\n",
        "#@title ← Extract RAR\n",
        "\n",
        "import fnmatch,os\n",
        "\n",
        "images = \"./images\"\n",
        "\n",
        "from pathlib import Path\n",
        "if not Path('images').exists():\n",
        "  os.mkdir(images)\n",
        "\n",
        "os.system(\"unrar x *.rar images\")"
      ],
      "metadata": {
        "cellView": "form",
        "id": "igOe6Al3jcA7"
      },
      "execution_count": null,
      "outputs": []
    },
    {
      "cell_type": "code",
      "source": [
        "#@title ← Manga Image Combiner\n",
        "#@markdown - Run\n",
        "\n",
        "import os\n",
        "from PIL import Image\n",
        "\n",
        "# Set the directory containing the images you want to combine\n",
        "directory = '/content/images'\n",
        "\n",
        "# Get a list of all the image files in the directory, sorted numerically\n",
        "image_files = sorted([f for f in os.listdir(directory) if f.endswith('.jpg')], key=lambda x: int(os.path.splitext(x)[0]))\n",
        "\n",
        "# Create an empty list to hold the images\n",
        "images = []\n",
        "\n",
        "# Loop through the image files and add each image to the list\n",
        "for file in image_files:\n",
        "    image = Image.open(os.path.join(directory, file))\n",
        "    images.append(image)\n",
        "\n",
        "# Get the dimensions of the images\n",
        "width, height = images[0].size\n",
        "\n",
        "# Create a new image with the same width and height as the original images\n",
        "new_image = Image.new('RGB', (width, height * len(images)))\n",
        "\n",
        "# Combine the images vertically into the new image\n",
        "for i in range(len(images)):\n",
        "    new_image.paste(images[i], (0, i * height))\n",
        "\n",
        "# Save the combined image\n",
        "new_image.save('combined_image.png')\n",
        "from google.colab import files\n",
        "files.download('combined_image.png') \n",
        "\n"
      ],
      "metadata": {
        "cellView": "form",
        "id": "EIh5eur-jY8D"
      },
      "execution_count": null,
      "outputs": []
    },
    {
      "cell_type": "code",
      "source": [
        "#@title ← Clear Images\n",
        "#@markdown - Run\n",
        "\n",
        "import os\n",
        "\n",
        "folder_path = \"images\"\n",
        "for filename in os.listdir(folder_path):\n",
        "    file_path = os.path.join(folder_path, filename)\n",
        "    try:\n",
        "        if os.path.isfile(file_path):\n",
        "            os.remove(file_path)\n",
        "    except Exception as e:\n",
        "        print(e)\n",
        "os.remove(\"RGBimages.rar\")\n",
        "os.remove('backup.bak')"
      ],
      "metadata": {
        "cellView": "form",
        "id": "iH-p6nfv739E"
      },
      "execution_count": null,
      "outputs": []
    },
    {
      "cell_type": "code",
      "source": [
        "#@title ← Comic Batch Downloader \n",
        "link_format = \"\" #@param {type:\"string\"}\n",
        "file_no = 22 #@param {type:\"slider\", min:0, max:30, step:1}\n",
        "\n",
        "#download link generator\n",
        "\n",
        "i = 0\n",
        "while i<file_no:\n",
        "  i += 1\n",
        "  print(link_format+str(i)+\".jpg\")\n",
        "\n",
        "\n",
        "#Hint - https://s9.3hentai.net/d273645/1.jpg"
      ],
      "metadata": {
        "cellView": "form",
        "id": "PvU2NJYjFLPn"
      },
      "execution_count": null,
      "outputs": []
    }
  ]
}