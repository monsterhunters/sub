{
  "nbformat": 4,
  "nbformat_minor": 0,
  "metadata": {
    "colab": {
      "provenance": [],
      "authorship_tag": "ABX9TyPTXm/Yuo/TXURAl434164J",
      "include_colab_link": true
    },
    "kernelspec": {
      "name": "python3",
      "display_name": "Python 3"
    },
    "language_info": {
      "name": "python"
    }
  },
  "cells": [
    {
      "cell_type": "markdown",
      "metadata": {
        "id": "view-in-github",
        "colab_type": "text"
      },
      "source": [
        "<a href=\"https://colab.research.google.com/github/monsterhunters/sub/blob/dev/Comics_Image_Merge.ipynb\" target=\"_parent\"><img src=\"https://colab.research.google.com/assets/colab-badge.svg\" alt=\"Open In Colab\"/></a>"
      ]
    },
    {
      "cell_type": "code",
      "source": [
        "#@title ← Upload Images from Video Sub Finder for OCR\n",
        "#@markdown - Please Upload RAR file contaning Images (RGB Images)\n",
        "#@markdown - Gdrive Link format must be format as below (Otherwise downloaded file will not work)\n",
        "#@markdown - <code>https://drive.google.com/file/d/15EN9PmzV3YTfgMR9Ezhy_k8U3eXVaT9l/view?usp=sharing</code>\n",
        "\n",
        "\n",
        "import gdown, os, re\n",
        "os.system('pip install gdown')\n",
        "os.system('pip install --upgrade gdown') #gdrive fix\n",
        "os.system('pip install --upgrade google-api-python-client google-auth-httplib2 google-auth-oauthlib')\n",
        "\n",
        "Upload_from = \"Gdrive\" #@param [\"Gdrive\",\"Gdrive2\",\"PC\", \"Direct Link\"]\n",
        "url = \"https://drive.google.com/file/d/191Q8OBBvDwev5Eq5TE7xYqNmDOEtTVkI/view?usp=share_link\" #@param {type:\"string\"}\n",
        "pattern = \"d/(.*?)\\/v\"\n",
        "gdrivefile_id = re.search(pattern, url).group(1)\n",
        "\n",
        "if Upload_from == \"Gdrive\":\n",
        "  gdown.download(id=gdrivefile_id, output=\"RGBimages.rar\", quiet=False)\n",
        "\n",
        "#elif Upload_from == \"Gdrive2\":\n",
        "#  !cloud-download --link \"$url\" --filename RGBimages.rar\n",
        "#  print(\"Downloaded [2560=ERR]\")\n",
        "\n",
        "elif Upload_from == \"Gdrive2\":\n",
        "  from pydrive.auth import GoogleAuth\n",
        "  from pydrive.drive import GoogleDrive\n",
        "  from google.colab import auth\n",
        "  from oauth2client.client import GoogleCredentials\n",
        "# Authenticate and create the PyDrive client.\n",
        "# This only needs to be done once per notebook.\n",
        "  auth.authenticate_user()\n",
        "  gauth = GoogleAuth()\n",
        "  gauth.credentials = GoogleCredentials.get_application_default()\n",
        "  drive = GoogleDrive(gauth)\n",
        "  downloaded = drive.CreateFile({'id': gdrivefile_id})\n",
        "  downloaded.GetContentFile('RGBimages.rar')\n",
        "\n",
        "elif Upload_from == \"PC\":\n",
        " from google.colab import files\n",
        " uploaded = files.upload()\n",
        "\n",
        "else:\n",
        " os.system('pip install wget')\n",
        " import wget\n",
        " filename = wget.download(url)\n",
        " print(filename)\n",
        " print(\"Downloaded\")\n",
        " \n",
        "os.system('cp *.rar backup.bak')\n",
        "\n",
        "#Codemaster V4.0\n",
        "\n",
        "#@title ← Extract RAR\n",
        "\n",
        "import fnmatch,os\n",
        "\n",
        "images = \"./images\"\n",
        "\n",
        "from pathlib import Path\n",
        "if not Path('images').exists():\n",
        "  os.mkdir(images)\n",
        "\n",
        "os.system(\"unrar x *.rar images\")"
      ],
      "metadata": {
        "cellView": "form",
        "id": "igOe6Al3jcA7",
        "colab": {
          "base_uri": "https://localhost:8080/"
        },
        "outputId": "0b5a34c1-3d56-4b39-9fde-66e64aec5d6b"
      },
      "execution_count": 4,
      "outputs": [
        {
          "output_type": "stream",
          "name": "stderr",
          "text": [
            "Downloading...\n",
            "From: https://drive.google.com/uc?id=191Q8OBBvDwev5Eq5TE7xYqNmDOEtTVkI\n",
            "To: /content/RGBimages.rar\n",
            "100%|██████████| 10.7M/10.7M [00:01<00:00, 7.60MB/s]\n"
          ]
        },
        {
          "output_type": "execute_result",
          "data": {
            "text/plain": [
              "65280"
            ]
          },
          "metadata": {},
          "execution_count": 4
        }
      ]
    },
    {
      "cell_type": "code",
      "source": [
        "#@title ← Manga Image Combiner\n",
        "#@markdown - Hello\n",
        "\n",
        "\n",
        "import os\n",
        "from PIL import Image\n",
        "\n",
        "# Set the directory containing the images you want to combine\n",
        "directory = '/content/images'\n",
        "\n",
        "# Get a list of all the image files in the directory, sorted numerically\n",
        "image_files = sorted([f for f in os.listdir(directory) if f.endswith('.jpg')], key=lambda x: int(os.path.splitext(x)[0]))\n",
        "\n",
        "# Create an empty list to hold the images\n",
        "images = []\n",
        "\n",
        "# Loop through the image files and add each image to the list\n",
        "for file in image_files:\n",
        "    image = Image.open(os.path.join(directory, file))\n",
        "    images.append(image)\n",
        "\n",
        "# Get the dimensions of the images\n",
        "width, height = images[0].size\n",
        "\n",
        "# Create a new image with the same width and height as the original images\n",
        "new_image = Image.new('RGB', (width, height * len(images)))\n",
        "\n",
        "# Combine the images vertically into the new image\n",
        "for i in range(len(images)):\n",
        "    new_image.paste(images[i], (0, i * height))\n",
        "\n",
        "# Save the combined image\n",
        "new_image.save('combined_image.png')\n",
        "from google.colab import files\n",
        "files.download('combined_image.png') \n",
        "\n"
      ],
      "metadata": {
        "cellView": "form",
        "id": "EIh5eur-jY8D",
        "colab": {
          "base_uri": "https://localhost:8080/",
          "height": 34
        },
        "outputId": "8005eb3c-2fa0-478c-f97f-7e97b11a6b0b"
      },
      "execution_count": 5,
      "outputs": [
        {
          "output_type": "display_data",
          "data": {
            "text/plain": [
              "<IPython.core.display.Javascript object>"
            ],
            "application/javascript": [
              "\n",
              "    async function download(id, filename, size) {\n",
              "      if (!google.colab.kernel.accessAllowed) {\n",
              "        return;\n",
              "      }\n",
              "      const div = document.createElement('div');\n",
              "      const label = document.createElement('label');\n",
              "      label.textContent = `Downloading \"${filename}\": `;\n",
              "      div.appendChild(label);\n",
              "      const progress = document.createElement('progress');\n",
              "      progress.max = size;\n",
              "      div.appendChild(progress);\n",
              "      document.body.appendChild(div);\n",
              "\n",
              "      const buffers = [];\n",
              "      let downloaded = 0;\n",
              "\n",
              "      const channel = await google.colab.kernel.comms.open(id);\n",
              "      // Send a message to notify the kernel that we're ready.\n",
              "      channel.send({})\n",
              "\n",
              "      for await (const message of channel.messages) {\n",
              "        // Send a message to notify the kernel that we're ready.\n",
              "        channel.send({})\n",
              "        if (message.buffers) {\n",
              "          for (const buffer of message.buffers) {\n",
              "            buffers.push(buffer);\n",
              "            downloaded += buffer.byteLength;\n",
              "            progress.value = downloaded;\n",
              "          }\n",
              "        }\n",
              "      }\n",
              "      const blob = new Blob(buffers, {type: 'application/binary'});\n",
              "      const a = document.createElement('a');\n",
              "      a.href = window.URL.createObjectURL(blob);\n",
              "      a.download = filename;\n",
              "      div.appendChild(a);\n",
              "      a.click();\n",
              "      div.remove();\n",
              "    }\n",
              "  "
            ]
          },
          "metadata": {}
        },
        {
          "output_type": "display_data",
          "data": {
            "text/plain": [
              "<IPython.core.display.Javascript object>"
            ],
            "application/javascript": [
              "download(\"download_7750b8f6-084d-4548-abd9-ca8f854dd946\", \"combined_image.png\", 75075556)"
            ]
          },
          "metadata": {}
        }
      ]
    }
  ]
}